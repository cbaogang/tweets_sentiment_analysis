{
 "cells": [
  {
   "cell_type": "code",
   "execution_count": 2,
   "id": "a32a183c",
   "metadata": {},
   "outputs": [],
   "source": [
    "import nltk\n",
    "import pandas as pd\n",
    "import numpy as np\n",
    "import re\n",
    "# pd.options.display.max_colwidth = 100\n",
    "# nltk.download('omw-1.4')"
   ]
  },
  {
   "cell_type": "code",
   "execution_count": 3,
   "id": "d1a93e80",
   "metadata": {},
   "outputs": [],
   "source": [
    "train = pd.read_csv(\"data/train_tweet.csv\",encoding='latin1')\n",
    "test = pd.read_csv(\"data/test_tweet.csv\",encoding='latin1')"
   ]
  },
  {
   "cell_type": "code",
   "execution_count": 5,
   "id": "3fa6977f",
   "metadata": {},
   "outputs": [
    {
     "name": "stdout",
     "output_type": "stream",
     "text": [
      "UserName          int64\n",
      "ScreenName        int64\n",
      "Location         object\n",
      "TweetAt          object\n",
      "OriginalTweet    object\n",
      "Sentiment        object\n",
      "dtype: object\n"
     ]
    }
   ],
   "source": [
    "data_types = train.dtypes\n",
    "\n",
    "print(data_types)"
   ]
  },
  {
   "cell_type": "code",
   "execution_count": 5,
   "id": "6545f861",
   "metadata": {},
   "outputs": [
    {
     "data": {
      "text/plain": [
       "Index(['UserName', 'ScreenName', 'Location', 'TweetAt', 'OriginalTweet',\n",
       "       'Sentiment'],\n",
       "      dtype='object')"
      ]
     },
     "execution_count": 5,
     "metadata": {},
     "output_type": "execute_result"
    }
   ],
   "source": [
    "train.columns"
   ]
  },
  {
   "cell_type": "code",
   "execution_count": 225,
   "id": "6281caf9",
   "metadata": {},
   "outputs": [
    {
     "data": {
      "text/plain": [
       "UserName            0\n",
       "ScreenName          0\n",
       "Location         8590\n",
       "TweetAt             0\n",
       "OriginalTweet       0\n",
       "Sentiment           0\n",
       "dtype: int64"
      ]
     },
     "execution_count": 225,
     "metadata": {},
     "output_type": "execute_result"
    }
   ],
   "source": [
    "train.isnull().sum()"
   ]
  },
  {
   "cell_type": "code",
   "execution_count": 213,
   "id": "94636073",
   "metadata": {},
   "outputs": [
    {
     "data": {
      "text/plain": [
       "UserName           0\n",
       "ScreenName         0\n",
       "Location         834\n",
       "TweetAt            0\n",
       "OriginalTweet      0\n",
       "Sentiment          0\n",
       "dtype: int64"
      ]
     },
     "execution_count": 213,
     "metadata": {},
     "output_type": "execute_result"
    }
   ],
   "source": [
    "test.isnull().sum()"
   ]
  },
  {
   "cell_type": "code",
   "execution_count": 214,
   "id": "bb1c53ae",
   "metadata": {},
   "outputs": [],
   "source": [
    "train = train.dropna(subset=[\"Location\"])\n",
    "test = test.dropna(subset=[\"Location\"])"
   ]
  },
  {
   "cell_type": "code",
   "execution_count": 215,
   "id": "d2d727ca",
   "metadata": {},
   "outputs": [],
   "source": [
    "import re\n",
    "import nltk\n",
    "\n",
    "def preprocess(x):\n",
    "    import re\n",
    "    # helper functions:\n",
    "    def remove_hashtags(text): return re.sub(r'#\\w*', ' ' , text)\n",
    "    def remove_mentions(text): return re.sub(r'@\\w*', ' ' , text)\n",
    "    def remove_urls(text): return re.sub(r'https?://\\S+', ' ', text)\n",
    "    def remove_apostrophe(text): return re.sub(r\"'s\\b\", \"\", text)\n",
    "    def remove_special_chars(text): return re.sub(r\"[^a-zA-Z0-9\\s]\", ' ', text)\n",
    "    def remove_numbers(text): return re.sub(r'[\\d]', ' ', text)\n",
    "    def remove_formatting_symbols(text): return re.sub(r\"[\\r\\n]+\",'',text)\n",
    "    def remove_escape_characters(text): return re.sub(r\"\\\\\",'',text)\n",
    "    def remove_extra_spaces(text): return re.sub(r\"\\s{2,}\",' ',text)\n",
    "    x=x.apply(remove_hashtags)\n",
    "    x=x.apply(remove_mentions)\n",
    "    x=x.apply(remove_urls)\n",
    "    x=x.apply(remove_apostrophe)\n",
    "    x=x.apply(remove_special_chars)\n",
    "    x=x.apply(remove_numbers)\n",
    "    x=x.apply(remove_formatting_symbols)\n",
    "    x=x.apply(remove_escape_characters)\n",
    "    x=x.apply(remove_extra_spaces)\n",
    "    x=x.str.lower()\n",
    "    return x\n"
   ]
  },
  {
   "cell_type": "code",
   "execution_count": 216,
   "id": "db2fcf78",
   "metadata": {},
   "outputs": [],
   "source": [
    "train['OriginalTweet']  = preprocess(train['OriginalTweet'])\n",
    "test['OriginalTweet']  = preprocess(test['OriginalTweet'])"
   ]
  },
  {
   "cell_type": "code",
   "execution_count": 217,
   "id": "d3d2bd22",
   "metadata": {},
   "outputs": [],
   "source": [
    "import re\n",
    "\n",
    "\n",
    "def clean_location(text):\n",
    "    if isinstance(text, str):\n",
    "        # Remove non-alphanumeric characters, numbers, and extra spaces\n",
    "        cleaned_text = re.sub(r'[^a-zA-Z\\s]', '', text)\n",
    "        cleaned_text = re.sub(r'\\d+', '', cleaned_text)\n",
    "        cleaned_text = re.sub(r'\\s{2,}', ' ', cleaned_text)\n",
    "        return cleaned_text.strip()\n",
    "    else:\n",
    "        return ''\n",
    "\n",
    "\n",
    "train['Location'] = train['Location'].apply(clean_location)\n",
    "test['Location'] = test['Location'].apply(clean_location)\n",
    "\n",
    "# Remove empty strings\n",
    "train = train[train['Location'] != '']\n",
    "train = train[train['OriginalTweet'] != '']\n",
    "\n",
    "test = test[test['Location'] != '']\n",
    "test = test[test['OriginalTweet'] != '']"
   ]
  },
  {
   "cell_type": "code",
   "execution_count": 160,
   "id": "6a1e12b6",
   "metadata": {},
   "outputs": [],
   "source": [
    "def label_preprocessing(df):\n",
    "    lab_dict={\n",
    "        'Extremely Negative': 'negative',\n",
    "        'Negative': 'negative',\n",
    "        'Neutral': 'neutral',\n",
    "        'Positive': 'positive',\n",
    "        'Extremely Positive': 'positive'\n",
    "    }\n",
    "    df['Sentiment']=df['Sentiment'].map(lab_dict)\n",
    "    \n",
    "    encoder={'negative': -1, 'neutral': 0, 'positive': 1}\n",
    "    df['Sentiment']=df['Sentiment'].map(encoder)\n",
    "    \n",
    "    return df\n"
   ]
  },
  {
   "cell_type": "code",
   "execution_count": 218,
   "id": "79aec30f",
   "metadata": {},
   "outputs": [
    {
     "data": {
      "text/html": [
       "<div>\n",
       "<style scoped>\n",
       "    .dataframe tbody tr th:only-of-type {\n",
       "        vertical-align: middle;\n",
       "    }\n",
       "\n",
       "    .dataframe tbody tr th {\n",
       "        vertical-align: top;\n",
       "    }\n",
       "\n",
       "    .dataframe thead th {\n",
       "        text-align: right;\n",
       "    }\n",
       "</style>\n",
       "<table border=\"1\" class=\"dataframe\">\n",
       "  <thead>\n",
       "    <tr style=\"text-align: right;\">\n",
       "      <th></th>\n",
       "      <th>UserName</th>\n",
       "      <th>ScreenName</th>\n",
       "      <th>Location</th>\n",
       "      <th>TweetAt</th>\n",
       "      <th>OriginalTweet</th>\n",
       "      <th>Sentiment</th>\n",
       "    </tr>\n",
       "  </thead>\n",
       "  <tbody>\n",
       "    <tr>\n",
       "      <th>0</th>\n",
       "      <td>3799</td>\n",
       "      <td>48751</td>\n",
       "      <td>London</td>\n",
       "      <td>16-03-2020</td>\n",
       "      <td>and and</td>\n",
       "      <td>Neutral</td>\n",
       "    </tr>\n",
       "    <tr>\n",
       "      <th>1</th>\n",
       "      <td>3800</td>\n",
       "      <td>48752</td>\n",
       "      <td>UK</td>\n",
       "      <td>16-03-2020</td>\n",
       "      <td>advice talk to your neighbours family to exchange phone numbers create contact list with phone n...</td>\n",
       "      <td>Positive</td>\n",
       "    </tr>\n",
       "    <tr>\n",
       "      <th>2</th>\n",
       "      <td>3801</td>\n",
       "      <td>48753</td>\n",
       "      <td>Vagabonds</td>\n",
       "      <td>16-03-2020</td>\n",
       "      <td>coronavirus australia woolworths to give elderly disabled dedicated shopping hours amid covid ou...</td>\n",
       "      <td>Positive</td>\n",
       "    </tr>\n",
       "    <tr>\n",
       "      <th>5</th>\n",
       "      <td>3804</td>\n",
       "      <td>48756</td>\n",
       "      <td>T</td>\n",
       "      <td>16-03-2020</td>\n",
       "      <td>as news of the region s first confirmed covid case came out of sullivan county last week people ...</td>\n",
       "      <td>Positive</td>\n",
       "    </tr>\n",
       "    <tr>\n",
       "      <th>7</th>\n",
       "      <td>3806</td>\n",
       "      <td>48758</td>\n",
       "      <td>Austria</td>\n",
       "      <td>16-03-2020</td>\n",
       "      <td>was at the supermarket today didn t buy toilet paper</td>\n",
       "      <td>Neutral</td>\n",
       "    </tr>\n",
       "  </tbody>\n",
       "</table>\n",
       "</div>"
      ],
      "text/plain": [
       "   UserName  ScreenName   Location     TweetAt  \\\n",
       "0      3799       48751     London  16-03-2020   \n",
       "1      3800       48752         UK  16-03-2020   \n",
       "2      3801       48753  Vagabonds  16-03-2020   \n",
       "5      3804       48756          T  16-03-2020   \n",
       "7      3806       48758    Austria  16-03-2020   \n",
       "\n",
       "                                                                                         OriginalTweet  \\\n",
       "0                                                                                             and and    \n",
       "1  advice talk to your neighbours family to exchange phone numbers create contact list with phone n...   \n",
       "2  coronavirus australia woolworths to give elderly disabled dedicated shopping hours amid covid ou...   \n",
       "5  as news of the region s first confirmed covid case came out of sullivan county last week people ...   \n",
       "7                                                was at the supermarket today didn t buy toilet paper    \n",
       "\n",
       "  Sentiment  \n",
       "0   Neutral  \n",
       "1  Positive  \n",
       "2  Positive  \n",
       "5  Positive  \n",
       "7   Neutral  "
      ]
     },
     "execution_count": 218,
     "metadata": {},
     "output_type": "execute_result"
    }
   ],
   "source": [
    "train.head()"
   ]
  },
  {
   "cell_type": "code",
   "execution_count": 127,
   "id": "d8c637e5",
   "metadata": {},
   "outputs": [],
   "source": [
    "test = preprocessing(test)\n",
    "test = label_preprocessing(test)"
   ]
  },
  {
   "cell_type": "code",
   "execution_count": 221,
   "id": "e64c4260",
   "metadata": {},
   "outputs": [
    {
     "data": {
      "text/plain": [
       "UserName         0\n",
       "ScreenName       0\n",
       "Location         0\n",
       "TweetAt          0\n",
       "OriginalTweet    0\n",
       "Sentiment        0\n",
       "dtype: int64"
      ]
     },
     "execution_count": 221,
     "metadata": {},
     "output_type": "execute_result"
    }
   ],
   "source": [
    "train.isnull().sum()"
   ]
  },
  {
   "cell_type": "code",
   "execution_count": 129,
   "id": "4efd6877",
   "metadata": {},
   "outputs": [
    {
     "data": {
      "text/plain": [
       "UserName         0\n",
       "ScreenName       0\n",
       "Location         0\n",
       "TweetAt          0\n",
       "OriginalTweet    0\n",
       "Sentiment        0\n",
       "dtype: int64"
      ]
     },
     "execution_count": 129,
     "metadata": {},
     "output_type": "execute_result"
    }
   ],
   "source": [
    "test.isnull().sum()"
   ]
  },
  {
   "cell_type": "code",
   "execution_count": 219,
   "id": "a173f931",
   "metadata": {},
   "outputs": [],
   "source": [
    "train.to_csv(\"train_tweet.csv\", index=False)\n",
    "test.to_csv(\"test_tweet.csv\", index=False)"
   ]
  }
 ],
 "metadata": {
  "kernelspec": {
   "display_name": "Python 3 (ipykernel)",
   "language": "python",
   "name": "python3"
  },
  "language_info": {
   "codemirror_mode": {
    "name": "ipython",
    "version": 3
   },
   "file_extension": ".py",
   "mimetype": "text/x-python",
   "name": "python",
   "nbconvert_exporter": "python",
   "pygments_lexer": "ipython3",
   "version": "3.8.16"
  }
 },
 "nbformat": 4,
 "nbformat_minor": 5
}
